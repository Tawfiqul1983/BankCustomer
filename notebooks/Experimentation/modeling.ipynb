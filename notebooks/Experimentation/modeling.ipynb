{
 "cells": [
  {
   "cell_type": "markdown",
   "id": "1d981fe6",
   "metadata": {},
   "source": [
    "<center>imports</center>"
   ]
  },
  {
   "cell_type": "code",
   "execution_count": 13,
   "id": "958cb743",
   "metadata": {},
   "outputs": [],
   "source": [
    "import mlflow\n",
    "import pandas as pd\n",
    "import numpy as np\n",
    "from sklearn.cluster import KMeans, DBSCAN, AgglomerativeClustering\n",
    "from sklearn.metrics import silhouette_score"
   ]
  },
  {
   "cell_type": "code",
   "execution_count": 7,
   "id": "dc6f5e21",
   "metadata": {},
   "outputs": [],
   "source": [
    "data = pd.read_parquet('d:/BankCustomer/data/bank_v5.parquet')\n",
    "df = data.copy()"
   ]
  },
  {
   "cell_type": "code",
   "execution_count": null,
   "id": "5bd91132",
   "metadata": {},
   "outputs": [],
   "source": []
  },
  {
   "cell_type": "markdown",
   "id": "a6334eb7",
   "metadata": {},
   "source": [
    "<center><b>Experimentation</b></center>"
   ]
  },
  {
   "cell_type": "code",
   "execution_count": null,
   "id": "45045dc6",
   "metadata": {},
   "outputs": [],
   "source": [
    "mlflow.create_experiment(\"Bank Customer Segmentation Experiment\")"
   ]
  },
  {
   "cell_type": "code",
   "execution_count": 17,
   "id": "c80f9530",
   "metadata": {},
   "outputs": [
    {
     "name": "stderr",
     "output_type": "stream",
     "text": [
      "D:\\clusterENV\\lib\\site-packages\\sklearn\\cluster\\_kmeans.py:1416: FutureWarning: The default value of `n_init` will change from 10 to 'auto' in 1.4. Set the value of `n_init` explicitly to suppress the warning\n",
      "  super()._check_params_vs_input(X, default_n_init=10)\n"
     ]
    }
   ],
   "source": [
    "mlflow.set_experiment(\"Bank Customer Segmentation Experiment\")\n",
    "with mlflow.start_run():\n",
    "    model = kmeans = KMeans(\n",
    "        n_clusters=10, init='k-means++',\n",
    "        n_init='warn', max_iter=300, tol=0.0001,\n",
    "        verbose=0, random_state=42, copy_x=True,algorithm='lloyd'\n",
    "    )\n",
    "    kmeans.fit(df)\n",
    "\n",
    "    # Log parameters\n",
    "    mlflow.log_params({\n",
    "        \"model_name\": \"KMeans\",\n",
    "        \"n_clusters\": 5,\n",
    "        \"init\": 'k-means++',\n",
    "    })\n",
    "\n",
    "    \n",
    "\n",
    "    # Calculate and log the evaluation metric (e.g., inertia)\n",
    "    sscore = silhouette_score(\n",
    "        df, kmeans.labels_, metric='euclidean',\n",
    "        sample_size=None, random_state=42,\n",
    "    )\n",
    "    mlflow.log_metric(\"_inertia\", kmeans.inertia_)\n",
    "    mlflow.log_metric(\"silhouette_score\", sscore)\n"
   ]
  },
  {
   "cell_type": "code",
   "execution_count": null,
   "id": "eea22709",
   "metadata": {},
   "outputs": [],
   "source": []
  },
  {
   "cell_type": "code",
   "execution_count": null,
   "id": "99453f55",
   "metadata": {},
   "outputs": [],
   "source": []
  }
 ],
 "metadata": {
  "kernelspec": {
   "display_name": "Python 3 (ipykernel)",
   "language": "python",
   "name": "python3"
  },
  "language_info": {
   "codemirror_mode": {
    "name": "ipython",
    "version": 3
   },
   "file_extension": ".py",
   "mimetype": "text/x-python",
   "name": "python",
   "nbconvert_exporter": "python",
   "pygments_lexer": "ipython3",
   "version": "3.10.6"
  }
 },
 "nbformat": 4,
 "nbformat_minor": 5
}
